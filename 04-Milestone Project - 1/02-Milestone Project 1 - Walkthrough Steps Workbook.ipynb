{
 "cells": [
  {
   "cell_type": "markdown",
   "metadata": {},
   "source": [
    "___\n",
    "\n",
    "<a href='https://www.udemy.com/user/joseportilla/'><img src='../Pierian_Data_Logo.png'/></a>\n",
    "___\n",
    "<center><em>Content Copyright by Pierian Data</em></center>"
   ]
  },
  {
   "cell_type": "markdown",
   "metadata": {},
   "source": [
    "# Milestone Project 1: Walkthrough Steps Workbook\n",
    "\n",
    "Below is a set of steps for you to follow to try to create the Tic Tac Toe Milestone Project game!"
   ]
  },
  {
   "cell_type": "markdown",
   "metadata": {},
   "source": [
    "#### Some suggested tools before you get started:\n",
    "To take input from a user:\n",
    "\n",
    "    player1 = input(\"Please pick a marker 'X' or 'O'\")\n",
    "    \n",
    "Note that input() takes in a string. If you need an integer value, use\n",
    "\n",
    "    position = int(input('Please enter a number'))\n",
    "    \n",
    "<br>To clear the screen between moves:\n",
    "\n",
    "    from IPython.display import clear_output\n",
    "    clear_output()\n",
    "    \n",
    "Note that clear_output() will only work in jupyter. To clear the screen in other IDEs, consider:\n",
    "\n",
    "    print('\\n'*100)\n",
    "    \n",
    "This scrolls the previous board up out of view. Now on to the program!"
   ]
  },
  {
   "cell_type": "markdown",
   "metadata": {},
   "source": [
    "**Step 1:** Write a function that can print out a board. Set up your board as a list, where each index 1-9 corresponds with a number on a number pad, so you get a 3 by 3 board representation."
   ]
  },
  {
   "cell_type": "code",
   "execution_count": 5,
   "metadata": {
    "collapsed": true
   },
   "outputs": [],
   "source": [
    "from IPython.display import clear_output\n",
    "\n",
    "def display_board(board):\n",
    "    print(f'|{board[7]}|{board[8]}|{board[9]}|')\n",
    "    print(f'|{board[4]}|{board[5]}|{board[6]}|')\n",
    "    print(f'|{board[1]}|{board[2]}|{board[3]}|')\n",
    "    "
   ]
  },
  {
   "cell_type": "markdown",
   "metadata": {},
   "source": [
    "**TEST Step 1:** run your function on a test version of the board list, and make adjustments as necessary"
   ]
  },
  {
   "cell_type": "code",
   "execution_count": 6,
   "metadata": {
    "collapsed": true
   },
   "outputs": [
    {
     "name": "stdout",
     "output_type": "stream",
     "text": [
      "|X||X|\n",
      "|O|X|O|\n",
      "|X|O|X|\n"
     ]
    }
   ],
   "source": [
    "test_board = ['#','X','O','X','O','X','O','X','','X']\n",
    "display_board(test_board)"
   ]
  },
  {
   "cell_type": "markdown",
   "metadata": {},
   "source": [
    "**Step 2:** Write a function that can take in a player input and assign their marker as 'X' or 'O'. Think about using *while* loops to continually ask until you get a correct answer."
   ]
  },
  {
   "cell_type": "code",
   "execution_count": 79,
   "metadata": {
    "collapsed": true
   },
   "outputs": [],
   "source": [
    "def player_input():\n",
    "    \n",
    "    markerchoice = \"wrong\"\n",
    "\n",
    "    while markerchoice not in [\"x\",\"X\",\"o\",\"O\"]:\n",
    "        markerchoice = input(\"Welcome to the Game, Please choose your marker (X or O)\")\n",
    "        \n",
    "        if markerchoice not in [\"x\",\"X\",\"o\",\"O\"]:\n",
    "            clear_output()\n",
    "            print(\"Sorry, but that choice is not valid\")\n",
    "    \n",
    "    return markerchoice\n",
    "            "
   ]
  },
  {
   "cell_type": "markdown",
   "metadata": {},
   "source": [
    "**TEST Step 2:** run the function to make sure it returns the desired output"
   ]
  },
  {
   "cell_type": "code",
   "execution_count": 80,
   "metadata": {
    "collapsed": true
   },
   "outputs": [
    {
     "data": {
      "text/plain": [
       "'o'"
      ]
     },
     "execution_count": 80,
     "metadata": {},
     "output_type": "execute_result"
    }
   ],
   "source": [
    "player_input()"
   ]
  },
  {
   "cell_type": "markdown",
   "metadata": {},
   "source": [
    "**Step 3:** Write a function that takes in the board list object, a marker ('X' or 'O'), and a desired position (number 1-9) and assigns it to the board."
   ]
  },
  {
   "cell_type": "code",
   "execution_count": 64,
   "metadata": {
    "collapsed": true
   },
   "outputs": [],
   "source": [
    "def place_marker(board, marker, position):\n",
    "\n",
    "    board[position] = marker"
   ]
  },
  {
   "cell_type": "markdown",
   "metadata": {},
   "source": [
    "**TEST Step 3:** run the place marker function using test parameters and display the modified board"
   ]
  },
  {
   "cell_type": "code",
   "execution_count": 65,
   "metadata": {
    "collapsed": true
   },
   "outputs": [
    {
     "name": "stdout",
     "output_type": "stream",
     "text": [
      "|X|$|X|\n",
      "|O|X|O|\n",
      "|X|O|X|\n"
     ]
    }
   ],
   "source": [
    "place_marker(test_board,'$',8)\n",
    "display_board(test_board)"
   ]
  },
  {
   "cell_type": "markdown",
   "metadata": {},
   "source": [
    "**Step 4:** Write a function that takes in a board and a mark (X or O) and then checks to see if that mark has won."
   ]
  },
  {
   "cell_type": "code",
   "execution_count": 66,
   "metadata": {
    "collapsed": true
   },
   "outputs": [],
   "source": [
    "def win_check(board, mark):\n",
    "    \n",
    "    winner = False\n",
    "    # Board positions\n",
    "    # board[7] board[8] board[9]\n",
    "    # board[4] board[5] board[6]\n",
    "    # board[1] board[2] board[3]\n",
    "    \n",
    "    # Top left to top right\n",
    "    if mark == board[7] and mark == board[8] and mark == board[9]:\n",
    "        winner = True\n",
    "    # Top left to bottom right\n",
    "    elif mark == board[7] and mark == board[5] and mark == board[3]:\n",
    "        winner = True\n",
    "    # Top left to bottom left\n",
    "    elif mark == board[7] and mark == board[4] and mark == board[1]:\n",
    "        winner = True\n",
    "    # Top middle to bottom middle\n",
    "    elif mark == board[8] and mark == board[5] and mark == board[2]:\n",
    "        winner = True\n",
    "    # Middle left to middle right\n",
    "    elif mark == board[4] and mark == board[5] and mark == board[6]:\n",
    "        winner = True\n",
    "    # Bottom left to top right\n",
    "    elif mark == board[1] and mark == board[5] and mark == board[9]:\n",
    "        winner = True\n",
    "    # Bottom left to bottom right\n",
    "    elif mark == board[1] and mark == board[2] and mark == board[3]:\n",
    "        winner = True\n",
    "    # Top right to bottom right\n",
    "    elif mark == board[9] and mark == board[6] and mark == board[3]:\n",
    "        winner = True\n",
    "    else:\n",
    "        pass\n",
    "\n",
    "    # return if the player is winner or not\n",
    "    return winner"
   ]
  },
  {
   "cell_type": "markdown",
   "metadata": {},
   "source": [
    "**TEST Step 4:** run the win_check function against our test_board - it should return True"
   ]
  },
  {
   "cell_type": "code",
   "execution_count": 67,
   "metadata": {
    "collapsed": true
   },
   "outputs": [
    {
     "data": {
      "text/plain": [
       "True"
      ]
     },
     "execution_count": 67,
     "metadata": {},
     "output_type": "execute_result"
    }
   ],
   "source": [
    "win_check(test_board,'X')"
   ]
  },
  {
   "cell_type": "markdown",
   "metadata": {},
   "source": [
    "**Step 5:** Write a function that uses the random module to randomly decide which player goes first. You may want to lookup random.randint() Return a string of which player went first."
   ]
  },
  {
   "cell_type": "code",
   "execution_count": 68,
   "metadata": {
    "collapsed": true
   },
   "outputs": [],
   "source": [
    "import random\n",
    "\n",
    "def choose_first():\n",
    "    return random.randint(1,2)"
   ]
  },
  {
   "cell_type": "markdown",
   "metadata": {},
   "source": [
    "**Step 6:** Write a function that returns a boolean indicating whether a space on the board is freely available."
   ]
  },
  {
   "cell_type": "code",
   "execution_count": 69,
   "metadata": {
    "collapsed": true
   },
   "outputs": [],
   "source": [
    "def space_check(board, position):\n",
    "    \n",
    "    can_place = False\n",
    "\n",
    "# Check if the position is empty\n",
    "    if board[position] in ['',' ']:\n",
    "        can_place = True\n",
    "    else:\n",
    "        pass\n",
    "\n",
    "    return can_place"
   ]
  },
  {
   "cell_type": "markdown",
   "metadata": {},
   "source": [
    "**Step 7: Write a function that checks if the board is full and returns a boolean value. True if full, False otherwise.**"
   ]
  },
  {
   "cell_type": "code",
   "execution_count": 70,
   "metadata": {
    "collapsed": true
   },
   "outputs": [],
   "source": [
    "def full_board_check(board):\n",
    "\n",
    "    board_full = False\n",
    "\n",
    "    if board.count(\" \") == 0:\n",
    "        board_full = True\n",
    "    elif board.count(\" \") == 0:\n",
    "        board_full = True\n",
    "    else: \n",
    "        pass\n",
    "\n",
    "    return board_full"
   ]
  },
  {
   "cell_type": "code",
   "execution_count": 71,
   "metadata": {},
   "outputs": [
    {
     "data": {
      "text/plain": [
       "False"
      ]
     },
     "execution_count": 71,
     "metadata": {},
     "output_type": "execute_result"
    }
   ],
   "source": [
    "full_board_check(board)"
   ]
  },
  {
   "cell_type": "markdown",
   "metadata": {},
   "source": [
    "**Step 8: Write a function that asks for a player's next position (as a number 1-9) and then uses the function from step 6 to check if it's a free position. If it is, then return the position for later use.**"
   ]
  },
  {
   "cell_type": "code",
   "execution_count": 72,
   "metadata": {
    "collapsed": true
   },
   "outputs": [],
   "source": [
    "def player_choice(board):\n",
    "    \n",
    "    position = \"wrong\"\n",
    "\n",
    "    while position == \"wrong\":\n",
    "        choice = input(\"Where would you like to place your marker? (Position 1- 9) :\")\n",
    "        if choice not in ['1','2','3','4','5','6','7','8','9']:\n",
    "            clear_output()\n",
    "            print(\"Sorry but that is not a valid choice, Please try again\")\n",
    "        else:\n",
    "            position = int(choice)\n",
    "\n",
    "    # Check if the position is free, if not, start the loop again\n",
    "    if space_check(board, position):\n",
    "        return position\n",
    "    else:\n",
    "        return False"
   ]
  },
  {
   "cell_type": "code",
   "execution_count": 73,
   "metadata": {},
   "outputs": [
    {
     "data": {
      "text/plain": [
       "False"
      ]
     },
     "execution_count": 73,
     "metadata": {},
     "output_type": "execute_result"
    }
   ],
   "source": [
    "player_choice(test_board)"
   ]
  },
  {
   "cell_type": "markdown",
   "metadata": {},
   "source": [
    "**Step 9: Write a function that asks the player if they want to play again and returns a boolean True if they do want to play again.**"
   ]
  },
  {
   "cell_type": "code",
   "execution_count": 74,
   "metadata": {
    "collapsed": true
   },
   "outputs": [],
   "source": [
    "def replay():\n",
    "    \n",
    "    choice = \"wrong\"\n",
    "\n",
    "    while choice == \"wrong\":\n",
    "        choice = input(\"Would you like to play again? (Y or N)\")\n",
    "        if choice not in ['y','Y','n','N']:\n",
    "            clear_output()\n",
    "            print(\"Sorry but that is not a valid choice, Please try again\")\n",
    "            choice = \"wrong\"\n",
    "        else:\n",
    "            pass\n",
    "\n",
    "    if choice in ['y','Y']:\n",
    "        return True\n",
    "    else:\n",
    "        return False"
   ]
  },
  {
   "cell_type": "code",
   "execution_count": 99,
   "metadata": {},
   "outputs": [
    {
     "data": {
      "text/plain": [
       "False"
      ]
     },
     "execution_count": 99,
     "metadata": {},
     "output_type": "execute_result"
    }
   ],
   "source": [
    "replay()"
   ]
  },
  {
   "cell_type": "code",
   "execution_count": null,
   "metadata": {},
   "outputs": [
    {
     "data": {
      "text/plain": [
       "False"
      ]
     },
     "execution_count": 48,
     "metadata": {},
     "output_type": "execute_result"
    }
   ],
   "source": [
    "board = [' ',' ',' ',' ',' ',' ',' ',' ',' ',' ']\n",
    "board.count(\" \")\n",
    "full_board_check(board)"
   ]
  },
  {
   "cell_type": "markdown",
   "metadata": {
    "collapsed": true
   },
   "source": [
    "**Step 10: Here comes the hard part! Use while loops and the functions you've made to run the game!**"
   ]
  },
  {
   "cell_type": "code",
   "execution_count": 98,
   "metadata": {
    "collapsed": true
   },
   "outputs": [
    {
     "name": "stdout",
     "output_type": "stream",
     "text": [
      "Congratulation Player 1, you are the winner\n",
      "Thank you for playing, Have a good day\n"
     ]
    }
   ],
   "source": [
    "# Definitions configured\n",
    "# display_board(board) - Displays the board\n",
    "# player_input() - Asks the player which marker they would like to play as ✔️\n",
    "# place_marker(board, marker, position) - Places the players marker on the board ✔️\n",
    "# win_check(board, mark) - Checks if one of the players has won \n",
    "# choose_first() - randomly chooses who should go first ✔️\n",
    "# space_check(board, position) - checks to see if the position is free or not ✔️\n",
    "# full_board_check(board) - checks to see if the board is full\n",
    "# player_choice(board) - Asks the player where they would like to place their marker ✔️\n",
    "# replay() - Asks if the players would like to play again ✔️\n",
    "\n",
    "print('Welcome to Tic Tac Toe!')\n",
    "\n",
    "while True:\n",
    "    # Set the game up here\n",
    "    board = [' '] * 10\n",
    "    player_1_marker = \"\"\n",
    "    player_2_marker = \"\"\n",
    "    turn = \"\"\n",
    "\n",
    "    print(\"Lets see who will go first\")\n",
    "    goes_first = choose_first()\n",
    "    if goes_first == 1:\n",
    "        print(\"Player 1 will go first, Please choose your marker\")\n",
    "        turn = 1\n",
    "        if player_input() in ['x','X']:\n",
    "            player_1_marker = 'X'\n",
    "            player_2_marker = 'O'\n",
    "        else: \n",
    "            player_1_marker = 'O'\n",
    "            player_2_marker = 'X'\n",
    "    else: \n",
    "        print(\"Player 2 will go first, Please choose your marker\")\n",
    "        turn = 2\n",
    "        if player_input() in ['x','x']:\n",
    "            player_2_marker = 'X'\n",
    "            player_1_marker = 'O'\n",
    "        else:\n",
    "            player_2_marker = 'O'\n",
    "            player_1_marker = 'X'\n",
    "\n",
    "    print(f\"Player 1 your marker is {player_1_marker}\")\n",
    "    print(f\"Player 2 your marker is {player_2_marker}\")\n",
    "    \n",
    "    game_on = True\n",
    "    playing = True\n",
    "\n",
    "    while game_on:\n",
    "    # Ask the players to place their markers\n",
    "        while playing:\n",
    "            while full_board_check(board) == False:\n",
    "                if turn == 1:\n",
    "                    print(f'Player 1, Place your marker: {player_1_marker}')\n",
    "                    display_board(board)\n",
    "                    player_1_position = player_choice(board)\n",
    "                    if space_check(board, player_1_position):\n",
    "                        place_marker(board,player_1_marker,player_1_position)\n",
    "                        clear_output()\n",
    "                        if win_check(board,player_1_marker):\n",
    "                            print (\"Congratulation Player 1, you are the winner\")\n",
    "                            playing = False\n",
    "                            game_on = False\n",
    "                            break\n",
    "                        else:\n",
    "                            turn = 2\n",
    "                    else:\n",
    "                        print(\"Sorry but that position is taken, Please choose another\")\n",
    "                        clear_output()      \n",
    "\n",
    "                elif turn == 2:\n",
    "                    print(f'Player 2, Place your marker: {player_2_marker}')\n",
    "                    display_board(board)\n",
    "                    player_2_position = player_choice(board)\n",
    "                    if space_check(board, player_2_position):\n",
    "                        place_marker(board,player_2_marker,player_2_position)\n",
    "                        clear_output()\n",
    "                        if win_check(board,player_2_marker):\n",
    "                            print (\"Congratulation Player 2, you are the winner\")\n",
    "                            playing = False\n",
    "                            game_on = False\n",
    "                            break\n",
    "                        else:\n",
    "                            turn = 1\n",
    "                    else:\n",
    "                        print(\"Sorry but that position is taken, Please choose another\")\n",
    "                        clear_output()\n",
    "            else:\n",
    "                print(\"The board is now full, sorry but no one wins today\")\n",
    "                break\n",
    "\n",
    "# Ask if they would like to play again\n",
    "    if not replay():\n",
    "        print (\"Thank you for playing, Have a good day\")\n",
    "        game_on = False\n",
    "        break\n"
   ]
  },
  {
   "cell_type": "markdown",
   "metadata": {
    "collapsed": true
   },
   "source": [
    "## Good Job!"
   ]
  }
 ],
 "metadata": {
  "interpreter": {
   "hash": "fe44fef87f92f48a3a32707d0df204585f471652bc0ce87358a3ce712bc24db0"
  },
  "kernelspec": {
   "display_name": "Python 3.9.7 64-bit",
   "name": "python3"
  },
  "language_info": {
   "codemirror_mode": {
    "name": "ipython",
    "version": 3
   },
   "file_extension": ".py",
   "mimetype": "text/x-python",
   "name": "python",
   "nbconvert_exporter": "python",
   "pygments_lexer": "ipython3",
   "version": "3.9.7"
  }
 },
 "nbformat": 4,
 "nbformat_minor": 1
}
