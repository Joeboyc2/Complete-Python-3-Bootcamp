{
 "cells": [
  {
   "cell_type": "markdown",
   "metadata": {},
   "source": [
    "___\n",
    "\n",
    "<a href='https://www.udemy.com/user/joseportilla/'><img src='../Pierian_Data_Logo.png'/></a>\n",
    "___\n",
    "<center><em>Content Copyright by Pierian Data</em></center>"
   ]
  },
  {
   "cell_type": "markdown",
   "metadata": {},
   "source": [
    "# Web Scraping Exercises \n",
    "\n",
    "## Complete the Tasks Below"
   ]
  },
  {
   "cell_type": "markdown",
   "metadata": {},
   "source": [
    "**TASK: Import any libraries you think you'll need to scrape a website.**"
   ]
  },
  {
   "cell_type": "code",
   "execution_count": 1,
   "metadata": {
    "collapsed": true
   },
   "outputs": [],
   "source": [
    "# CODE HERE\n",
    "import requests\n",
    "import bs4"
   ]
  },
  {
   "cell_type": "code",
   "execution_count": 120,
   "metadata": {},
   "outputs": [
    {
     "data": {
      "text/plain": [
       "\"\\n\\n\\nQuotes to Scrape\\n\\n\\n\\n\\n\\n\\n\\n\\nQuotes to Scrape\\n\\n\\n\\n\\nLogin\\n\\n\\n\\n\\n\\n\\n“The world as we have created it is a process of our thinking. It cannot be changed without changing our thinking.”\\nby Albert Einstein\\n(about)\\n\\n\\n            Tags:\\n            \\nchange\\ndeep-thoughts\\nthinking\\nworld\\n\\n\\n\\n“It is our choices, Harry, that show what we truly are, far more than our abilities.”\\nby J.K. Rowling\\n(about)\\n\\n\\n            Tags:\\n            \\nabilities\\nchoices\\n\\n\\n\\n“There are only two ways to live your life. One is as though nothing is a miracle. The other is as though everything is a miracle.”\\nby Albert Einstein\\n(about)\\n\\n\\n            Tags:\\n            \\ninspirational\\nlife\\nlive\\nmiracle\\nmiracles\\n\\n\\n\\n“The person, be it gentleman or lady, who has not pleasure in a good novel, must be intolerably stupid.”\\nby Jane Austen\\n(about)\\n\\n\\n            Tags:\\n            \\naliteracy\\nbooks\\nclassic\\nhumor\\n\\n\\n\\n“Imperfection is beauty, madness is genius and it's better to be absolutely ridiculous than absolutely boring.”\\nby Marilyn Monroe\\n(about)\\n\\n\\n            Tags:\\n            \\nbe-yourself\\ninspirational\\n\\n\\n\\n“Try not to become a man of success. Rather become a man of value.”\\nby Albert Einstein\\n(about)\\n\\n\\n            Tags:\\n            \\nadulthood\\nsuccess\\nvalue\\n\\n\\n\\n“It is better to be hated for what you are than to be loved for what you are not.”\\nby André Gide\\n(about)\\n\\n\\n            Tags:\\n            \\nlife\\nlove\\n\\n\\n\\n“I have not failed. I've just found 10,000 ways that won't work.”\\nby Thomas A. Edison\\n(about)\\n\\n\\n            Tags:\\n            \\nedison\\nfailure\\ninspirational\\nparaphrased\\n\\n\\n\\n“A woman is like a tea bag; you never know how strong it is until it's in hot water.”\\nby Eleanor Roosevelt\\n(about)\\n\\n\\n            Tags:\\n            \\nmisattributed-eleanor-roosevelt\\n\\n\\n\\n“A day without sunshine is like, you know, night.”\\nby Steve Martin\\n(about)\\n\\n\\n            Tags:\\n            \\nhumor\\nobvious\\nsimile\\n\\n\\n\\n\\n\\nNext →\\n\\n\\n\\n\\n\\nTop Ten tags\\n\\nlove\\n\\n\\ninspirational\\n\\n\\nlife\\n\\n\\nhumor\\n\\n\\nbooks\\n\\n\\nreading\\n\\n\\nfriendship\\n\\n\\nfriends\\n\\n\\ntruth\\n\\n\\nsimile\\n\\n\\n\\n\\n\\n\\n\\n                Quotes by: GoodReads.com\\n\\n\\n                Made with ❤ by Scrapinghub\\n\\n\\n\\n\\n\""
      ]
     },
     "execution_count": 120,
     "metadata": {},
     "output_type": "execute_result"
    }
   ],
   "source": [
    "res = requests.get(\"https://quotes.toscrape.com/\")\n",
    "soup = bs4.BeautifulSoup(res.text,\"lxml\")\n",
    "soup.text"
   ]
  },
  {
   "cell_type": "markdown",
   "metadata": {},
   "source": [
    "**TASK: Get the names of all the authors on the first page.**"
   ]
  },
  {
   "cell_type": "code",
   "execution_count": 121,
   "metadata": {
    "collapsed": true
   },
   "outputs": [],
   "source": [
    "# CODE HERE\n",
    "authors = set()\n",
    "\n",
    "authname = soup.select(\".author\")\n",
    "\n",
    "for author in authname:\n",
    "    authors.add(author.get_text())"
   ]
  },
  {
   "cell_type": "code",
   "execution_count": 122,
   "metadata": {},
   "outputs": [
    {
     "data": {
      "text/plain": [
       "{'Albert Einstein',\n",
       " 'André Gide',\n",
       " 'Eleanor Roosevelt',\n",
       " 'J.K. Rowling',\n",
       " 'Jane Austen',\n",
       " 'Marilyn Monroe',\n",
       " 'Steve Martin',\n",
       " 'Thomas A. Edison'}"
      ]
     },
     "execution_count": 122,
     "metadata": {},
     "output_type": "execute_result"
    }
   ],
   "source": [
    "authors"
   ]
  },
  {
   "cell_type": "markdown",
   "metadata": {},
   "source": [
    "**TASK: Create a list of all the quotes on the first page.**"
   ]
  },
  {
   "cell_type": "code",
   "execution_count": 123,
   "metadata": {
    "collapsed": true
   },
   "outputs": [],
   "source": [
    "#CODE HERE\n",
    "quotes = []\n",
    "\n",
    "quotetext = soup.select(\".text\")\n",
    "\n",
    "for quote in quotetext:\n",
    "    quotes.append(quote.get_text())"
   ]
  },
  {
   "cell_type": "code",
   "execution_count": 124,
   "metadata": {},
   "outputs": [
    {
     "data": {
      "text/plain": [
       "['“The world as we have created it is a process of our thinking. It cannot be changed without changing our thinking.”',\n",
       " '“It is our choices, Harry, that show what we truly are, far more than our abilities.”',\n",
       " '“There are only two ways to live your life. One is as though nothing is a miracle. The other is as though everything is a miracle.”',\n",
       " '“The person, be it gentleman or lady, who has not pleasure in a good novel, must be intolerably stupid.”',\n",
       " \"“Imperfection is beauty, madness is genius and it's better to be absolutely ridiculous than absolutely boring.”\",\n",
       " '“Try not to become a man of success. Rather become a man of value.”',\n",
       " '“It is better to be hated for what you are than to be loved for what you are not.”',\n",
       " \"“I have not failed. I've just found 10,000 ways that won't work.”\",\n",
       " \"“A woman is like a tea bag; you never know how strong it is until it's in hot water.”\",\n",
       " '“A day without sunshine is like, you know, night.”']"
      ]
     },
     "execution_count": 124,
     "metadata": {},
     "output_type": "execute_result"
    }
   ],
   "source": [
    "quotes"
   ]
  },
  {
   "cell_type": "markdown",
   "metadata": {},
   "source": [
    "**TASK: Inspect the site and use Beautiful Soup to extract the top ten tags from the requests text shown on the top right from the home page (e.g Love,Inspirational,Life, etc...). HINT: Keep in mind there are also tags underneath each quote, try to find a class only present in the top right tags, perhaps check the span.**"
   ]
  },
  {
   "cell_type": "code",
   "execution_count": 81,
   "metadata": {
    "collapsed": true
   },
   "outputs": [
    {
     "name": "stdout",
     "output_type": "stream",
     "text": [
      "Top Ten tags\n",
      "love\n",
      "inspirational\n",
      "life\n",
      "humor\n",
      "books\n",
      "reading\n",
      "friendship\n",
      "friends\n",
      "truth\n",
      "simile\n"
     ]
    }
   ],
   "source": [
    "# CODE HERE\n",
    "type(soup)\n",
    "tagbox = soup.select(\".tags-box\")\n",
    "example = tagbox[0]\n",
    "for des in example.stripped_strings:\n",
    "    print(des)"
   ]
  },
  {
   "cell_type": "markdown",
   "metadata": {},
   "source": [
    "**TASK: Notice how there is more than one page, and subsequent pages look like this http://quotes.toscrape.com/page/2/. Use what you know about for loops and string concatenation to loop through all the pages and get all the unique authors on the website. Keep in mind there are many ways to achieve this, also note that you will need to somehow figure out how to check that your loop is on the last page with quotes. For debugging purposes, I will let you know that there are only 10 pages, so the last page is http://quotes.toscrape.com/page/10/, but try to create a loop that is robust enough that it wouldn't matter to know the amount of pages beforehand, perhaps use try/except for this, its up to you!**"
   ]
  },
  {
   "cell_type": "code",
   "execution_count": null,
   "metadata": {},
   "outputs": [
    {
     "data": {
      "text/plain": [
       "1"
      ]
     },
     "metadata": {},
     "output_type": "display_data"
    }
   ],
   "source": [
    "hasnext = soup.select(\".next\")\n",
    "\n",
    "len(hasnext)"
   ]
  },
  {
   "cell_type": "code",
   "execution_count": null,
   "metadata": {},
   "outputs": [
    {
     "data": {
      "text/plain": [
       "0"
      ]
     },
     "metadata": {},
     "output_type": "display_data"
    }
   ],
   "source": [
    "nextpage = base_url + \"page/{}/\"\n",
    "\n",
    "page = requests.get(nextpage.format(10))\n",
    "\n",
    "soup = bs4.BeautifulSoup(page.text,'lxml')\n",
    "\n",
    "hasnext = soup.select(\".next\")\n",
    "\n",
    "len(hasnext)"
   ]
  },
  {
   "cell_type": "code",
   "execution_count": 111,
   "metadata": {
    "collapsed": true
   },
   "outputs": [],
   "source": [
    "# CODE HERE\n",
    "\n",
    "# Setup Base URL, used for 1 and part of subpages\n",
    "base_url = \"https://quotes.toscrape.com/\"\n",
    "part = \"page/{}/\"\n",
    "\n",
    "# Create an empty set which will store the unique authors \n",
    "authors = set({})\n",
    "\n",
    "for n in range(12):\n",
    "    if n == 0:\n",
    "        site = requests.get(base_url)\n",
    "    else:\n",
    "        url = base_url + \"page/{}/\"\n",
    "        site = requests.get(url.format(n))\n",
    "    \n",
    "    soup = bs4.BeautifulSoup(site.text,'lxml')\n",
    "    \n",
    "    hasnext = soup.select(\".next\")\n",
    "\n",
    "    if len(hasnext) > 0:\n",
    "        authname = soup.select(\".author\")\n",
    "        for auth in authname:\n",
    "            authors.add(auth.get_text())\n",
    "    else:\n",
    "        authname = soup.select(\".author\")\n",
    "        for auth in authname:\n",
    "            authors.add(auth.get_text())\n",
    "        break\n"
   ]
  },
  {
   "cell_type": "code",
   "execution_count": 112,
   "metadata": {},
   "outputs": [
    {
     "data": {
      "text/plain": [
       "{'Albert Einstein',\n",
       " 'Alexandre Dumas fils',\n",
       " 'Alfred Tennyson',\n",
       " 'Allen Saunders',\n",
       " 'André Gide',\n",
       " 'Ayn Rand',\n",
       " 'Bob Marley',\n",
       " 'C.S. Lewis',\n",
       " 'Charles Bukowski',\n",
       " 'Charles M. Schulz',\n",
       " 'Douglas Adams',\n",
       " 'Dr. Seuss',\n",
       " 'E.E. Cummings',\n",
       " 'Eleanor Roosevelt',\n",
       " 'Elie Wiesel',\n",
       " 'Ernest Hemingway',\n",
       " 'Friedrich Nietzsche',\n",
       " 'Garrison Keillor',\n",
       " 'George Bernard Shaw',\n",
       " 'George Carlin',\n",
       " 'George Eliot',\n",
       " 'George R.R. Martin',\n",
       " 'Harper Lee',\n",
       " 'Haruki Murakami',\n",
       " 'Helen Keller',\n",
       " 'J.D. Salinger',\n",
       " 'J.K. Rowling',\n",
       " 'J.M. Barrie',\n",
       " 'J.R.R. Tolkien',\n",
       " 'James Baldwin',\n",
       " 'Jane Austen',\n",
       " 'Jim Henson',\n",
       " 'Jimi Hendrix',\n",
       " 'John Lennon',\n",
       " 'Jorge Luis Borges',\n",
       " 'Khaled Hosseini',\n",
       " \"Madeleine L'Engle\",\n",
       " 'Marilyn Monroe',\n",
       " 'Mark Twain',\n",
       " 'Martin Luther King Jr.',\n",
       " 'Mother Teresa',\n",
       " 'Pablo Neruda',\n",
       " 'Ralph Waldo Emerson',\n",
       " 'Stephenie Meyer',\n",
       " 'Steve Martin',\n",
       " 'Suzanne Collins',\n",
       " 'Terry Pratchett',\n",
       " 'Thomas A. Edison',\n",
       " 'W.C. Fields',\n",
       " 'William Nicholson'}"
      ]
     },
     "execution_count": 112,
     "metadata": {},
     "output_type": "execute_result"
    }
   ],
   "source": [
    "authors"
   ]
  },
  {
   "cell_type": "markdown",
   "metadata": {},
   "source": [
    "There are lots of other potential solutions that are even more robust and flexible, the main idea is the same though, use a while loop to cycle through potential pages and have a break condition based on the invalid page."
   ]
  }
 ],
 "metadata": {
  "kernelspec": {
   "display_name": "Python 3",
   "language": "python",
   "name": "python3"
  },
  "language_info": {
   "codemirror_mode": {
    "name": "ipython",
    "version": 3
   },
   "file_extension": ".py",
   "mimetype": "text/x-python",
   "name": "python",
   "nbconvert_exporter": "python",
   "pygments_lexer": "ipython3",
   "version": "3.6.6"
  }
 },
 "nbformat": 4,
 "nbformat_minor": 2
}
