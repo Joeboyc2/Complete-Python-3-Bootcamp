{
 "cells": [
  {
   "cell_type": "markdown",
   "metadata": {},
   "source": [
    "___\n",
    "\n",
    "<a href='https://www.udemy.com/user/joseportilla/'><img src='../Pierian_Data_Logo.png'/></a>\n",
    "___\n",
    "<center><em>Content Copyright by Pierian Data</em></center>"
   ]
  },
  {
   "cell_type": "markdown",
   "metadata": {},
   "source": [
    "# PDFs and Spreadsheets Puzzle Exercise\n",
    "\n",
    "Let's test your skills, the files needed for this puzzle exercise\n",
    "\n",
    "You will need to work with two files for this exercise and solve the following tasks:\n",
    "\n",
    "* Task One: Use Python to extract the Google Drive link from the .csv file. (Hint: Its along the diagonal from top left to bottom right).\n",
    "* Task Two: Download the PDF from the Google Drive link (we already downloaded it for you just in case you can't download from Google Drive) and find the phone number that is in the document. Note: There are different ways of formatting a phone number!"
   ]
  },
  {
   "cell_type": "markdown",
   "metadata": {},
   "source": [
    "## Task One: Grab the Google Drive Link from .csv File"
   ]
  },
  {
   "cell_type": "code",
   "execution_count": 1,
   "metadata": {
    "collapsed": true
   },
   "outputs": [],
   "source": [
    "import csv"
   ]
  },
  {
   "cell_type": "code",
   "execution_count": 5,
   "metadata": {},
   "outputs": [],
   "source": [
    "f = open(\"Exercise_Files//find_the_link.csv\",encoding='utf-8')"
   ]
  },
  {
   "cell_type": "code",
   "execution_count": 6,
   "metadata": {},
   "outputs": [
    {
     "data": {
      "text/plain": [
       "<_io.TextIOWrapper name='Exercise_Files//find_the_link.csv' mode='r' encoding='utf-8'>"
      ]
     },
     "execution_count": 6,
     "metadata": {},
     "output_type": "execute_result"
    }
   ],
   "source": [
    "f"
   ]
  },
  {
   "cell_type": "code",
   "execution_count": 7,
   "metadata": {},
   "outputs": [],
   "source": [
    "filereader = csv.reader(f)"
   ]
  },
  {
   "cell_type": "code",
   "execution_count": 9,
   "metadata": {},
   "outputs": [],
   "source": [
    "content = list(filereader)"
   ]
  },
  {
   "cell_type": "code",
   "execution_count": 16,
   "metadata": {},
   "outputs": [
    {
     "data": {
      "text/plain": [
       "'t'"
      ]
     },
     "execution_count": 16,
     "metadata": {},
     "output_type": "execute_result"
    }
   ],
   "source": [
    "content[1][1]"
   ]
  },
  {
   "cell_type": "code",
   "execution_count": 22,
   "metadata": {},
   "outputs": [
    {
     "name": "stdout",
     "output_type": "stream",
     "text": [
      "https://drive.google.com/open?id=1G6SEgg018UB4_4xsAJJ5TdzrhmXipr4Q\n"
     ]
    }
   ],
   "source": [
    "address = \"\"\n",
    "\n",
    "for num in range(len(content)):\n",
    "    address += content[num][num]\n",
    "\n",
    "print(address)"
   ]
  },
  {
   "cell_type": "code",
   "execution_count": 14,
   "metadata": {},
   "outputs": [
    {
     "data": {
      "text/plain": [
       "'https://drive.google.com/open?id=1G6SEgg018UB4_4xsAJJ5TdzrhmXipr4Q'"
      ]
     },
     "execution_count": 14,
     "metadata": {},
     "output_type": "execute_result"
    }
   ],
   "source": [
    "# THe correct result is shown below, if you can't download from Google Drive, \n",
    "# we added the PDF file to the Exercise_Files folder already"
   ]
  },
  {
   "cell_type": "markdown",
   "metadata": {},
   "source": [
    "## Task Two: Download the PDF from the Google Drive link and find the phone number that is in the document. "
   ]
  },
  {
   "cell_type": "code",
   "execution_count": 1,
   "metadata": {
    "collapsed": true
   },
   "outputs": [],
   "source": [
    "# You should get this phone number\n",
    "# 505 503 4455"
   ]
  },
  {
   "cell_type": "code",
   "execution_count": 25,
   "metadata": {},
   "outputs": [],
   "source": [
    "import PyPDF2"
   ]
  },
  {
   "cell_type": "code",
   "execution_count": 27,
   "metadata": {},
   "outputs": [],
   "source": [
    "f = open('Exercise_Files//Find_the_Phone_Number.pdf','rb')"
   ]
  },
  {
   "cell_type": "code",
   "execution_count": 28,
   "metadata": {},
   "outputs": [],
   "source": [
    "pdf_reader = PyPDF2.PdfFileReader(f)"
   ]
  },
  {
   "cell_type": "code",
   "execution_count": 29,
   "metadata": {},
   "outputs": [
    {
     "data": {
      "text/plain": [
       "17"
      ]
     },
     "execution_count": 29,
     "metadata": {},
     "output_type": "execute_result"
    }
   ],
   "source": [
    "pdf_reader.numPages"
   ]
  },
  {
   "cell_type": "code",
   "execution_count": 35,
   "metadata": {},
   "outputs": [
    {
     "name": "stdout",
     "output_type": "stream",
     "text": [
      "Business Deliverables\n",
      " \n",
      " \n",
      " \n",
      "Staff engagement touch base yet can I just chime in on that one draw a line in the sand \n",
      "this proposal is a win\n",
      "-\n",
      "win situation which will cause a stellar paradigm shift, and \n",
      "produce a multi\n",
      "-\n",
      "fold increase in deliverables but \n",
      "future\n",
      "-\n",
      "proof. I dont care if you got some \n",
      "copy, why you dont use officeipsumcom or something like that ? low\n",
      "-\n",
      "hanging fruit beef \n",
      "up, and optimize for search or we need to leverage our synergies. We need to make the \n",
      "new version clean and sexy bells and whist\n",
      "les, so meeting assassin, and execute . \n",
      "Baseline the procedure and samepage your department push back yet strategic high\n",
      "-\n",
      "level 30,000 ft view powerPointless, but deliverables nor circle back. Paddle on both \n",
      "sides conversational content win\n",
      "-\n",
      "win\n",
      "-\n",
      "win nor pig \n",
      "in a python overcome key issues to \n",
      "meet key milestones. Personal development crisp ppt deep dive. Can we parallel path \n",
      "blue sky and this proposal is a win\n",
      "-\n",
      "win situation which will cause a stellar paradigm \n",
      "shift, and produce a multi\n",
      "-\n",
      "fold increase in deliver\n",
      "ables. Where the metal hits the meat \n",
      "horsehead offer. Onward and upward, productize the deliverables and focus on the \n",
      "\n",
      "knowledge process outsourcing. Slow\n",
      "-\n",
      "walk our commitmen\n",
      "t synergize productive \n",
      "mindfulness so high turnaround rate we need to harvest synergy effects. Who's the goto \n",
      "on this job with the way forward tbrand terrorists. Your work on this project has been \n",
      "really impactful. Pushback quantity shoot me an email so si\n",
      "ngle wringable neck hit the \n",
      "\n",
      "\n",
      "Performance review let's not solutionize this right now parkin\n",
      "g lot it so win\n",
      "-\n",
      "win\n",
      "-\n",
      "win and \n",
      "fast track gain traction. At the end of the day player\n",
      "-\n",
      "coach nor we need to leverage our \n",
      "synergies. Can we take this offline vec we've bootstrapped the model nor feature creep.\n",
      " \n",
      " \n",
      " \n",
      "Churning anomalies. Face time. Are we in agreeanc\n",
      "e 60% to 30% is a lot of persent no \n",
      "scraps hit the floor, nor critical mass. Can you run this by clearance? hot johnny coming \n",
      "through . This proposal is a win\n",
      "-\n",
      "win situation which will cause a stellar paradigm shift, \n",
      "and produce a multi\n",
      "-\n",
      "fold increase in del\n",
      "iverables we need to aspirationalise our \n",
      "offerings so this vendor is incompetent , nor organic growth. Dog and pony show. Turn \n",
      "the ship. If you want to motivate these clowns, try less carrot and more stick imagineer, \n",
      "but product market fit and we need to c\n",
      "rystallize a plan pro\n",
      "-\n",
      "sumer software for strategic \n",
      "fit programmatically.\n",
      " \n",
      " \n",
      " \n",
      "\n"
     ]
    }
   ],
   "source": [
    "print(pdf_reader.getPage(0).extractText())"
   ]
  },
  {
   "cell_type": "code",
   "execution_count": 36,
   "metadata": {},
   "outputs": [],
   "source": [
    "pdf_text = []"
   ]
  },
  {
   "cell_type": "code",
   "execution_count": 37,
   "metadata": {},
   "outputs": [],
   "source": [
    "for num in range(pdf_reader.numPages):\n",
    "    page = pdf_reader.getPage(num)\n",
    "    pdf_text.append(page.extractText())"
   ]
  },
  {
   "cell_type": "code",
   "execution_count": 38,
   "metadata": {},
   "outputs": [
    {
     "data": {
      "text/plain": [
       "'around our foundations or radical candor. Quick\\n-\\nwin we need \\nto harvest synergy effects \\nso sorry i didn\\'t get your email for back to the drawing\\n-\\nboard what the or this proposal is \\na win\\n-\\nwin situation which will cause a stellar paradigm shift, and produce a multi\\n-\\nfold \\nincrease in deliverables. Time to open the kimono\\n \\nregroup so diversify kpis. Race \\nwithout a finish line drill down, yet if you want to motivate these clowns, try less carrot \\nand more stick, yet prioritize these line items for pushback, for herding cats crank this \\nout. Pipeline guerrilla marketing, nor no\\nt enough bandwidth player\\n-\\ncoach for prioritize \\nthese line items. Synergestic actionables shotgun approach, nor eat our own dog food \\nbaseline the procedure and samepage your department. Push back crisp ppt nor tbrand \\nterrorists, and run it up the flagpole.\\n \\n \\n \\nClosing these latest prospects is like putting socks on an octopus no scraps hit the floor \\nthat\\'s not on the roadmap peel the onion run it up the flag pole service as core \\n&innovations as power makes our brand. Let me know if you need me to crack any \\nsku\\nlls. Focus on the customer journey cloud native container based, but you gotta \\nsmoke test your hypothesis. Wheelhouse don\\'t over think it and no scraps hit the floor \\nstrategic staircase. Your work on this project has been really impactful wheelhouse. \\nShoot\\n \\nme an email sacred cow. Bottleneck mice that jerk from finance really threw me \\nunder the bus core competencies, nor organic growth, for turn the crank, so optimize \\nthe fireball herding cats. Back to the drawing\\n-\\nboard workflow ecosystem for re\\n-\\ninventing \\nth\\ne wheel please use \"solutionise\" instead of solution ideas! :), exposing new ways to \\nevolve our design language. Low\\n-\\nhanging fruit that ipo will be a game\\n-\\nchanger. A set of \\ncertitudes based on deductions founded on false premise game plan, yet \\ntechnologica\\nlly savvy for pro\\n-\\nsumer software. Driving the initiative forward if you want to \\nmotivate these clowns, try less carrot and more stick, gage [sic] where the industry is \\n\\nki\\nlling it, circle back. We have to leverage up the messaging spinning our wheels \\ntechnologically savvy.\\n \\n \\n \\nShelfware that jerk from finance really threw me under the bus first\\n-\\norder optimal \\nstrategies collaboration through advanced technlogy nor disband the \\nsquad but \\nrehydrate as needed. Focus on the customer journey red flag, yet can you run this by \\nclearance? hot johnny coming through . That\\'s not on the roadmap to be inspired is to \\nbecome creative, innovative and energized we want this philosophy to trickl\\ne down to all \\nour stakeholders but organic growth out of scope, for we just need to put these last \\nissues to bed. Social currency gain traction, and overcome key issues to meet key \\nmilestones, feature creep, and red flag synergize productive mindfulness de\\nploy to \\nproduction. Time vampire. Exposing new ways to evolve our design language curate \\nthose options are already baked in with this model, so eat our own dog food but draw a \\n'"
      ]
     },
     "execution_count": 38,
     "metadata": {},
     "output_type": "execute_result"
    }
   ],
   "source": [
    "pdf_text[4]"
   ]
  },
  {
   "cell_type": "code",
   "execution_count": 39,
   "metadata": {},
   "outputs": [],
   "source": [
    "import re"
   ]
  },
  {
   "cell_type": "code",
   "execution_count": 40,
   "metadata": {},
   "outputs": [
    {
     "data": {
      "text/plain": [
       "17"
      ]
     },
     "execution_count": 40,
     "metadata": {},
     "output_type": "execute_result"
    }
   ],
   "source": [
    "len(pdf_text)"
   ]
  },
  {
   "cell_type": "code",
   "execution_count": 43,
   "metadata": {},
   "outputs": [],
   "source": [
    "pattern = r'\\d{3}'\n"
   ]
  },
  {
   "cell_type": "code",
   "execution_count": 45,
   "metadata": {},
   "outputs": [],
   "source": [
    "all_text = ''\n",
    "\n",
    "for n in range(pdf_reader.numPages):\n",
    "    \n",
    "    page = pdf_reader.getPage(n)\n",
    "    page_text = page.extractText()\n",
    "    \n",
    "    all_text = all_text+' '+page_text"
   ]
  },
  {
   "cell_type": "code",
   "execution_count": 47,
   "metadata": {},
   "outputs": [
    {
     "name": "stdout",
     "output_type": "stream",
     "text": [
      "<re.Match object; span=(655, 658), match='000'>\n",
      "<re.Match object; span=(17805, 17808), match='000'>\n",
      "<re.Match object; span=(35059, 35062), match='000'>\n",
      "<re.Match object; span=(41808, 41811), match='505'>\n",
      "<re.Match object; span=(41812, 41815), match='503'>\n",
      "<re.Match object; span=(41816, 41819), match='445'>\n"
     ]
    }
   ],
   "source": [
    "for match in re.finditer(pattern,all_text):\n",
    "    print(match)"
   ]
  },
  {
   "cell_type": "code",
   "execution_count": 48,
   "metadata": {},
   "outputs": [],
   "source": [
    "pattern = r'\\d{3}.\\d{3}.\\d{4}' "
   ]
  },
  {
   "cell_type": "code",
   "execution_count": 49,
   "metadata": {},
   "outputs": [
    {
     "name": "stdout",
     "output_type": "stream",
     "text": [
      "505.503.4455\n"
     ]
    }
   ],
   "source": [
    "for n in range(pdf_reader.numPages):\n",
    "    \n",
    "    page  = pdf_reader.getPage(n)\n",
    "    page_text = page.extractText()\n",
    "    match = re.search(pattern,page_text)\n",
    "    \n",
    "    if match:\n",
    "        print(match.group())"
   ]
  },
  {
   "cell_type": "code",
   "execution_count": null,
   "metadata": {},
   "outputs": [],
   "source": []
  }
 ],
 "metadata": {
  "anaconda-cloud": {},
  "kernelspec": {
   "display_name": "Python 3",
   "language": "python",
   "name": "python3"
  },
  "language_info": {
   "codemirror_mode": {
    "name": "ipython",
    "version": 3
   },
   "file_extension": ".py",
   "mimetype": "text/x-python",
   "name": "python",
   "nbconvert_exporter": "python",
   "pygments_lexer": "ipython3",
   "version": "3.9.12"
  }
 },
 "nbformat": 4,
 "nbformat_minor": 2
}
