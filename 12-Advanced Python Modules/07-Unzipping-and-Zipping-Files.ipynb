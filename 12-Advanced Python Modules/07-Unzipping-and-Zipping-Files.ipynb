{
 "cells": [
  {
   "cell_type": "markdown",
   "metadata": {},
   "source": [
    "___\n",
    "\n",
    "<a href='https://www.udemy.com/user/joseportilla/'><img src='../Pierian_Data_Logo.png'/></a>\n",
    "___\n",
    "<center><em>Content Copyright by Pierian Data</em></center>"
   ]
  },
  {
   "cell_type": "markdown",
   "metadata": {},
   "source": [
    "# Unzipping and Zipping Files\n",
    "\n",
    "As you are probably aware, files can be compressed to a zip format. Often people use special programs on their computer to unzip these files, luckily for us, Python can do the same task with just a few simple lines of code."
   ]
  },
  {
   "cell_type": "markdown",
   "metadata": {},
   "source": [
    "## Create Files to Compress"
   ]
  },
  {
   "cell_type": "code",
   "execution_count": 1,
   "metadata": {
    "collapsed": true
   },
   "outputs": [],
   "source": [
    "# slashes may need to change for MacOS or Linux\n",
    "f = open(\"new_file.txt\",'w+')\n",
    "f.write(\"Here is some text\")\n",
    "f.close()"
   ]
  },
  {
   "cell_type": "code",
   "execution_count": 2,
   "metadata": {
    "collapsed": true
   },
   "outputs": [],
   "source": [
    "# slashes may need to change for MacOS or Linux\n",
    "f = open(\"new_file2.txt\",'w+')\n",
    "f.write(\"Here is some text\")\n",
    "f.close()"
   ]
  },
  {
   "cell_type": "markdown",
   "metadata": {},
   "source": [
    "## Zipping Files\n",
    "\n",
    "The [zipfile library](https://docs.python.org/3/library/zipfile.html) is built in to Python, we can use it to compress folders or files. To compress all files in a folder, just use the os.walk() method to iterate this process for all the files in a directory."
   ]
  },
  {
   "cell_type": "code",
   "execution_count": 3,
   "metadata": {
    "collapsed": true
   },
   "outputs": [],
   "source": [
    "import zipfile"
   ]
  },
  {
   "cell_type": "markdown",
   "metadata": {},
   "source": [
    " Create Zip file first , then write to it (the write step compresses the files.)"
   ]
  },
  {
   "cell_type": "code",
   "execution_count": 4,
   "metadata": {
    "collapsed": true
   },
   "outputs": [],
   "source": [
    "comp_file = zipfile.ZipFile('comp_file.zip','w')"
   ]
  },
  {
   "cell_type": "code",
   "execution_count": 5,
   "metadata": {
    "collapsed": true
   },
   "outputs": [],
   "source": [
    "comp_file.write(\"new_file.txt\",compress_type=zipfile.ZIP_DEFLATED)"
   ]
  },
  {
   "cell_type": "code",
   "execution_count": 6,
   "metadata": {
    "collapsed": true
   },
   "outputs": [],
   "source": [
    "comp_file.write('new_file2.txt',compress_type=zipfile.ZIP_DEFLATED)"
   ]
  },
  {
   "cell_type": "code",
   "execution_count": 7,
   "metadata": {
    "collapsed": true
   },
   "outputs": [],
   "source": [
    "comp_file.close()"
   ]
  },
  {
   "cell_type": "markdown",
   "metadata": {},
   "source": [
    "## Extracting from Zip Files\n",
    "\n",
    "We can easily extract files with either the extractall() method to get all the files, or just using the extract() method to only grab individual files."
   ]
  },
  {
   "cell_type": "code",
   "execution_count": 8,
   "metadata": {
    "collapsed": true
   },
   "outputs": [],
   "source": [
    "zip_obj = zipfile.ZipFile('comp_file.zip','r')"
   ]
  },
  {
   "cell_type": "code",
   "execution_count": 9,
   "metadata": {
    "collapsed": true
   },
   "outputs": [],
   "source": [
    "zip_obj.extractall(\"extracted_content\")"
   ]
  },
  {
   "cell_type": "markdown",
   "metadata": {},
   "source": [
    "________"
   ]
  },
  {
   "cell_type": "markdown",
   "metadata": {},
   "source": [
    "# Using shutil library\n",
    "\n",
    "Often you don't want to extract or archive individual files from a .zip, but instead archive everything at once. The shutil library that is built in to python has easy to use commands for this:"
   ]
  },
  {
   "cell_type": "code",
   "execution_count": 10,
   "metadata": {
    "collapsed": true
   },
   "outputs": [],
   "source": [
    "import shutil"
   ]
  },
  {
   "cell_type": "markdown",
   "metadata": {},
   "source": [
    "The shutil library can accept a format parameter, `format` is the archive format: one of \"zip\", \"tar\", \"gztar\", \"bztar\",\n",
    "or \"xztar\"."
   ]
  },
  {
   "cell_type": "code",
   "execution_count": 11,
   "metadata": {},
   "outputs": [
    {
     "data": {
      "text/plain": [
       "'c:\\\\git\\\\Complete-Python-3-Bootcamp\\\\12-Advanced Python Modules'"
      ]
     },
     "execution_count": 11,
     "metadata": {},
     "output_type": "execute_result"
    }
   ],
   "source": [
    "pwd"
   ]
  },
  {
   "cell_type": "code",
   "execution_count": 14,
   "metadata": {
    "collapsed": true
   },
   "outputs": [],
   "source": [
    "directory_to_zip='c:\\\\git\\\\Complete-Python-3-Bootcamp\\\\12-Advanced Python Modules'"
   ]
  },
  {
   "cell_type": "code",
   "execution_count": 15,
   "metadata": {},
   "outputs": [
    {
     "data": {
      "text/plain": [
       "'c:\\\\git\\\\Complete-Python-3-Bootcamp\\\\12-Advanced Python Modules\\\\example.zip'"
      ]
     },
     "execution_count": 15,
     "metadata": {},
     "output_type": "execute_result"
    }
   ],
   "source": [
    "# Creating a zip archive\n",
    "output_filename = 'example'\n",
    "# Just fill in the output_filename and the directory to zip\n",
    "# Note this won't run as is because the variable are undefined\n",
    "shutil.make_archive(output_filename,'zip',directory_to_zip)"
   ]
  },
  {
   "cell_type": "code",
   "execution_count": 16,
   "metadata": {
    "collapsed": true
   },
   "outputs": [
    {
     "ename": "NameError",
     "evalue": "name 'dir_for_extract_result' is not defined",
     "output_type": "error",
     "traceback": [
      "\u001b[1;31m---------------------------------------------------------------------------\u001b[0m",
      "\u001b[1;31mNameError\u001b[0m                                 Traceback (most recent call last)",
      "\u001b[1;32mc:\\git\\Complete-Python-3-Bootcamp\\12-Advanced Python Modules\\07-Unzipping-and-Zipping-Files.ipynb Cell 23'\u001b[0m in \u001b[0;36m<module>\u001b[1;34m\u001b[0m\n\u001b[0;32m      <a href='vscode-notebook-cell:/c%3A/git/Complete-Python-3-Bootcamp/12-Advanced%20Python%20Modules/07-Unzipping-and-Zipping-Files.ipynb#ch0000022?line=0'>1</a>\u001b[0m \u001b[39m# Extracting a zip archive\u001b[39;00m\n\u001b[0;32m      <a href='vscode-notebook-cell:/c%3A/git/Complete-Python-3-Bootcamp/12-Advanced%20Python%20Modules/07-Unzipping-and-Zipping-Files.ipynb#ch0000022?line=1'>2</a>\u001b[0m \u001b[39m# Notice how the parameter/argument order is slightly different here\u001b[39;00m\n\u001b[1;32m----> <a href='vscode-notebook-cell:/c%3A/git/Complete-Python-3-Bootcamp/12-Advanced%20Python%20Modules/07-Unzipping-and-Zipping-Files.ipynb#ch0000022?line=2'>3</a>\u001b[0m shutil\u001b[39m.\u001b[39munpack_archive(output_filename,dir_for_extract_result,\u001b[39m'\u001b[39m\u001b[39mzip\u001b[39m\u001b[39m'\u001b[39m)\n",
      "\u001b[1;31mNameError\u001b[0m: name 'dir_for_extract_result' is not defined"
     ]
    }
   ],
   "source": [
    "# Extracting a zip archive\n",
    "# Notice how the parameter/argument order is slightly different here\n",
    "shutil.unpack_archive(output_filename,dir_for_extract_result,'zip')"
   ]
  }
 ],
 "metadata": {
  "kernelspec": {
   "display_name": "Python 3",
   "language": "python",
   "name": "python3"
  },
  "language_info": {
   "codemirror_mode": {
    "name": "ipython",
    "version": 3
   },
   "file_extension": ".py",
   "mimetype": "text/x-python",
   "name": "python",
   "nbconvert_exporter": "python",
   "pygments_lexer": "ipython3",
   "version": "3.10.2"
  }
 },
 "nbformat": 4,
 "nbformat_minor": 2
}
