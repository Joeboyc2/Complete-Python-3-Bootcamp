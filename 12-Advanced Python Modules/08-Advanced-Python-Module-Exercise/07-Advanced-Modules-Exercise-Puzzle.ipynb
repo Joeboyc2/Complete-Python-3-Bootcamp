{
 "cells": [
  {
   "cell_type": "markdown",
   "metadata": {},
   "source": [
    "___\n",
    "\n",
    "<a href='https://www.udemy.com/user/joseportilla/'><img src='../../Pierian_Data_Logo.png'/></a>\n",
    "___\n",
    "<center><em>Content Copyright by Pierian Data</em></center>"
   ]
  },
  {
   "cell_type": "markdown",
   "metadata": {},
   "source": [
    "# Advanced Modules Exercise Puzzle\n",
    "\n",
    "It's time to test your new skills, this puzzle project will combine multiple skills sets, including unzipping files with Python, using os module to automatically search through lots of files.\n",
    "\n",
    "## Your Goal\n",
    "\n",
    "This is a puzzle, so we don't want to give you too much guidance and instead have you figure out things on your own.\n",
    "\n",
    "There is a .zip file called 'unzip_me_for_instructions.zip', unzip it, open the .txt file with Python, read the instructions and see if you can figure out what you need to do!\n",
    "\n",
    "**If you get stuck or don't know where to start, here is a [guide/hints](https://docs.google.com/document/d/1JxydUr4n4fSR0EwwuwT-aHia-yPK6r-oTBuVT2sqheo/edit?usp=sharing)**"
   ]
  },
  {
   "cell_type": "markdown",
   "metadata": {},
   "source": [
    "Good work on unzipping the file!\n",
    "- You should now see 5 folders, each with a lot of random .txt files.\n",
    "- Within one of these text files is a telephone number formated ###-###-#### \n",
    "- Use the Python os module and regular expressions to iterate through each file, open it, and search for a telephone number.\n",
    "Good luck!"
   ]
  },
  {
   "cell_type": "code",
   "execution_count": 5,
   "metadata": {},
   "outputs": [],
   "source": [
    "import shutil"
   ]
  },
  {
   "cell_type": "code",
   "execution_count": 1,
   "metadata": {},
   "outputs": [
    {
     "data": {
      "text/plain": [
       "'c:\\\\Users\\\\Joeboy\\\\OneDrive\\\\Home Automation\\\\Coding\\\\Python\\\\Complete Python 3 Bootcamp Notebook\\\\Complete-Python-3-Bootcamp\\\\12-Advanced Python Modules\\\\08-Advanced-Python-Module-Exercise'"
      ]
     },
     "execution_count": 1,
     "metadata": {},
     "output_type": "execute_result"
    }
   ],
   "source": [
    "pwd"
   ]
  },
  {
   "cell_type": "code",
   "execution_count": 7,
   "metadata": {},
   "outputs": [],
   "source": [
    "pathtounzip = 'unzip_me_for_instructions.zip'"
   ]
  },
  {
   "cell_type": "code",
   "execution_count": 71,
   "metadata": {},
   "outputs": [],
   "source": [
    "shutil.unpack_archive(pathtounzip,os.getcwd(),'zip')"
   ]
  },
  {
   "cell_type": "code",
   "execution_count": 72,
   "metadata": {},
   "outputs": [
    {
     "name": "stdout",
     "output_type": "stream",
     "text": [
      "Good work on unzipping the file!\n",
      "You should now see 5 folders, each with a lot of random .txt files.\n",
      "Within one of these text files is a telephone number formated ###-###-#### \n",
      "Use the Python os module and regular expressions to iterate through each file, open it, and search for a telephone number.\n",
      "Good luck!\n"
     ]
    }
   ],
   "source": [
    "with open('extracted_content/Instructions.txt') as f:\n",
    "    content = f.read()\n",
    "    print (content)"
   ]
  },
  {
   "cell_type": "code",
   "execution_count": 41,
   "metadata": {},
   "outputs": [],
   "source": [
    "pathToWalk = 'c:\\\\Users\\\\Joeboy\\\\OneDrive\\\\Home Automation\\\\Coding\\\\Python\\\\Complete Python 3 Bootcamp Notebook\\\\Complete-Python-3-Bootcamp\\\\12-Advanced Python Modules\\\\08-Advanced-Python-Module-Exercise\\\\extracted_content\\\\'"
   ]
  },
  {
   "cell_type": "code",
   "execution_count": 25,
   "metadata": {},
   "outputs": [],
   "source": [
    "import os"
   ]
  },
  {
   "cell_type": "code",
   "execution_count": 26,
   "metadata": {},
   "outputs": [
    {
     "data": {
      "text/plain": [
       "<generator object _walk at 0x00000211FFCFDC10>"
      ]
     },
     "execution_count": 26,
     "metadata": {},
     "output_type": "execute_result"
    }
   ],
   "source": [
    "os.walk(pathToWalk)"
   ]
  },
  {
   "cell_type": "code",
   "execution_count": 18,
   "metadata": {},
   "outputs": [],
   "source": [
    "import re"
   ]
  },
  {
   "cell_type": "code",
   "execution_count": 42,
   "metadata": {},
   "outputs": [
    {
     "data": {
      "text/plain": [
       "'c:\\\\Users\\\\Joeboy\\\\OneDrive\\\\Home Automation\\\\Coding\\\\Python\\\\Complete Python 3 Bootcamp Notebook\\\\Complete-Python-3-Bootcamp\\\\12-Advanced Python Modules\\\\08-Advanced-Python-Module-Exercise\\\\extracted_content\\\\'"
      ]
     },
     "execution_count": 42,
     "metadata": {},
     "output_type": "execute_result"
    }
   ],
   "source": [
    "pathToWalk"
   ]
  },
  {
   "cell_type": "code",
   "execution_count": 49,
   "metadata": {},
   "outputs": [
    {
     "name": "stdout",
     "output_type": "stream",
     "text": [
      "Currently looking at c:\\Users\\Joeboy\\OneDrive\\Home Automation\\Coding\\Python\\Complete Python 3 Bootcamp Notebook\\Complete-Python-3-Bootcamp\\12-Advanced Python Modules\\08-Advanced-Python-Module-Exercise\\extracted_content\\\n",
      "Subfolder: Five\n",
      "Subfolder: Four\n",
      "Subfolder: One\n",
      "Subfolder: Three\n",
      "Subfolder: Two\n",
      "Currently looking at c:\\Users\\Joeboy\\OneDrive\\Home Automation\\Coding\\Python\\Complete Python 3 Bootcamp Notebook\\Complete-Python-3-Bootcamp\\12-Advanced Python Modules\\08-Advanced-Python-Module-Exercise\\extracted_content\\Five\n",
      "Currently looking at c:\\Users\\Joeboy\\OneDrive\\Home Automation\\Coding\\Python\\Complete Python 3 Bootcamp Notebook\\Complete-Python-3-Bootcamp\\12-Advanced Python Modules\\08-Advanced-Python-Module-Exercise\\extracted_content\\Four\n",
      "Currently looking at c:\\Users\\Joeboy\\OneDrive\\Home Automation\\Coding\\Python\\Complete Python 3 Bootcamp Notebook\\Complete-Python-3-Bootcamp\\12-Advanced Python Modules\\08-Advanced-Python-Module-Exercise\\extracted_content\\One\n",
      "Currently looking at c:\\Users\\Joeboy\\OneDrive\\Home Automation\\Coding\\Python\\Complete Python 3 Bootcamp Notebook\\Complete-Python-3-Bootcamp\\12-Advanced Python Modules\\08-Advanced-Python-Module-Exercise\\extracted_content\\Three\n",
      "Currently looking at c:\\Users\\Joeboy\\OneDrive\\Home Automation\\Coding\\Python\\Complete Python 3 Bootcamp Notebook\\Complete-Python-3-Bootcamp\\12-Advanced Python Modules\\08-Advanced-Python-Module-Exercise\\extracted_content\\Two\n"
     ]
    }
   ],
   "source": [
    "pattern = re.compile(r'(\\d{3})-(\\d{3})-(\\d{4})')\n",
    "\n",
    "for folder, sub_folders, files in os.walk(pathToWalk):\n",
    "    \n",
    "    print(f'Currently looking at {folder}')\n",
    "    for sub_folder in sub_folders:\n",
    "        print(f'Subfolder: {sub_folder}')\n",
    "        for folder, files in os.walk(pathToWalk+folder):\n",
    "            print(f\"Searching the files for the pattern: {pattern} \")\n",
    "            for f in files:\n",
    "                print(f'Searching File: {f}')\n",
    "                content = open(f,'r')\n",
    "                re.search(pattern,content)"
   ]
  },
  {
   "cell_type": "code",
   "execution_count": 30,
   "metadata": {},
   "outputs": [
    {
     "data": {
      "text/plain": [
       "['Five', 'Four', 'Instructions.txt', 'One', 'Three', 'Two']"
      ]
     },
     "execution_count": 30,
     "metadata": {},
     "output_type": "execute_result"
    }
   ],
   "source": [
    "os.listdir(pathToWalk)"
   ]
  },
  {
   "cell_type": "code",
   "execution_count": 69,
   "metadata": {},
   "outputs": [
    {
     "name": "stdout",
     "output_type": "stream",
     "text": [
      "Currently looking in extracted_content\n",
      "The subfolder are: \n",
      "Subfolder: Five\n",
      "Subfolder: Four\n",
      "Subfolder: One\n",
      "Subfolder: Three\n",
      "Subfolder: Two\n",
      "Not in file: Instructions.txt\n",
      "Currently looking in extracted_content\\Five\n",
      "The subfolder are: \n",
      "Not in file: AEITMYIRQLP.txt\n",
      "Not in file: APJKSRITGGX.txt\n",
      "Not in file: AQKATDFGXTS.txt\n",
      "Not in file: ARLKFCWIAJE.txt\n",
      "Not in file: AXJGVPVEFAS.txt\n",
      "Not in file: BNUQEHCFRTG.txt\n",
      "Not in file: BSKJDRNEZQM.txt\n",
      "Not in file: BTYWAHLHKBM.txt\n",
      "Not in file: BUGKBZWRRVI.txt\n",
      "Not in file: BVBURZZCAPR.txt\n",
      "Not in file: CAHBEVSVDDN.txt\n",
      "Not in file: COMGMZBJAYE.txt\n",
      "Not in file: CRFSDGYFSHA.txt\n",
      "Not in file: CSCLFZCDYYC.txt\n",
      "Not in file: CXBVCTRBBIE.txt\n",
      "Not in file: DDLASODUVPX.txt\n",
      "Not in file: DHZBAAYEADM.txt\n",
      "Not in file: DQPZQLBCJYP.txt\n",
      "Not in file: DYOPIIVMZOO.txt\n",
      "Not in file: DZUWWXYIAEL.txt\n",
      "Not in file: EAAOEPSAWMQ.txt\n",
      "Not in file: EIPWXMQZJKU.txt\n",
      "Not in file: ESIZWBHMGDP.txt\n",
      "Not in file: ETCUEXWNBCF.txt\n",
      "Not in file: EYTCGIOYWIW.txt\n",
      "Currently looking in extracted_content\\Four\n",
      "The subfolder are: \n",
      "Not in file: ECIOBYCDVFI.txt\n",
      "Found the string in: EMTGPSXQEJX.txt \n",
      "string: 719-266-2837\n",
      "Not in file: EPRNUHRSESC.txt\n",
      "Not in file: ESDIZXHYCVY.txt\n",
      "Not in file: EXVQSVBQQQH.txt\n",
      "Not in file: QCTCKDIBBVG.txt\n",
      "Not in file: QCWCFLKNZMN.txt\n",
      "Not in file: QDDETWBHJYC.txt\n",
      "Not in file: QTDYYIFPHAU.txt\n",
      "Not in file: QVNJULGXNUM.txt\n",
      "Not in file: REAXWSOIQDY.txt\n",
      "Not in file: ROICPTWKXDX.txt\n",
      "Not in file: RSXOTNGKBML.txt\n",
      "Not in file: RXDARIDGKBF.txt\n",
      "Not in file: RYNXFYXMKHG.txt\n",
      "Not in file: TAKNAVDMZKV.txt\n",
      "Not in file: THPNEGKTJWI.txt\n",
      "Not in file: TJFMLJODVAD.txt\n",
      "Not in file: TKCZSFQNJTX.txt\n",
      "Not in file: TWUOYFCCYBQ.txt\n",
      "Not in file: WFSKPTXPFCH.txt\n",
      "Not in file: WHTOHQUWXIN.txt\n",
      "Not in file: WNJISWPEBRS.txt\n",
      "Not in file: WXDJDOGZEHN.txt\n",
      "Not in file: WYDLGSGGXKV.txt\n",
      "Currently looking in extracted_content\\One\n",
      "The subfolder are: \n",
      "Not in file: HDOHZHFSTTK.txt\n",
      "Not in file: HFUTPPAXDIS.txt\n",
      "Not in file: HMNZTLIFGPD.txt\n",
      "Not in file: HRQFTHKVJTL.txt\n",
      "Not in file: HVUTZEVMSBW.txt\n",
      "Not in file: JDLRVFCXYLU.txt\n",
      "Not in file: JEHBLZPUPSP.txt\n",
      "Not in file: JLTXKIGCWDL.txt\n",
      "Not in file: JQUOBKFUACN.txt\n",
      "Not in file: JTHSNBNPQSE.txt\n",
      "Not in file: KCXGNQCZBLO.txt\n",
      "Not in file: KFIUZFERLET.txt\n",
      "Not in file: KMMLGJOWLGI.txt\n",
      "Not in file: KNBSKDREHQU.txt\n",
      "Not in file: KTXDHIOKAUI.txt\n",
      "Not in file: LDGOCUQJNNS.txt\n",
      "Not in file: LFEATJAAYDC.txt\n",
      "Not in file: LHODFIKVTQA.txt\n",
      "Not in file: LIFDHOFKWOI.txt\n",
      "Not in file: LPNDVDXPZIG.txt\n",
      "Not in file: PDJMSMNKIRM.txt\n",
      "Not in file: PHWAVPEKAER.txt\n",
      "Not in file: PLYCGPVEAWO.txt\n",
      "Not in file: PQNVCVJINAR.txt\n",
      "Not in file: PTOBBCJYURJ.txt\n",
      "Currently looking in extracted_content\\Three\n",
      "The subfolder are: \n",
      "Not in file: VAQIJTDOFUJ.txt\n",
      "Not in file: VCFJCGJFBIH.txt\n",
      "Not in file: VSXFSTABZDY.txt\n",
      "Not in file: VVHFVZUNLOO.txt\n",
      "Not in file: VVKGWLRMHLU.txt\n",
      "Not in file: XAJMCPEWFNI.txt\n",
      "Not in file: XFHJOTNPEJG.txt\n",
      "Not in file: XHZPVUQTXIO.txt\n",
      "Not in file: XJCWENFFGHB.txt\n",
      "Not in file: XVMPVSVYKFR.txt\n",
      "Not in file: YCESZHJDBXH.txt\n",
      "Not in file: YDQFMWXOUMW.txt\n",
      "Not in file: YQBIUHSUEVW.txt\n",
      "Not in file: YQRNCMNFFHW.txt\n",
      "Not in file: YYIZGBTQHZP.txt\n",
      "Not in file: ZEZKKRBIZEB.txt\n",
      "Not in file: ZKQJXAYKPVD.txt\n",
      "Not in file: ZOWVXWPOGWP.txt\n",
      "Not in file: ZXEZRQXZNPG.txt\n",
      "Not in file: ZXIBJMPROKW.txt\n",
      "Currently looking in extracted_content\\Two\n",
      "The subfolder are: \n",
      "Not in file: GKQBQRCTNNK.txt\n",
      "Not in file: GMMQQUBMJNR.txt\n",
      "Not in file: GQTJJORZBXY.txt\n",
      "Not in file: GTOTCIWMDBY.txt\n",
      "Not in file: GXYSEPAFRTP.txt\n",
      "Not in file: HARDNJGDRBC.txt\n",
      "Not in file: HEORIXOTANT.txt\n",
      "Not in file: HMUTDOVNYTV.txt\n",
      "Not in file: HMZXPBOPRAE.txt\n",
      "Not in file: HTOHSTYXTCO.txt\n",
      "Not in file: LCJZYDHBFRM.txt\n",
      "Not in file: LSQSTGPIGIY.txt\n",
      "Not in file: LULTNYAQEJG.txt\n",
      "Not in file: LVMBINRBJXL.txt\n",
      "Not in file: LYZEQCVYNEZ.txt\n",
      "Not in file: OHZOUOSFJQC.txt\n",
      "Not in file: OIHMLGMWTHL.txt\n",
      "Not in file: OKWFOOYTXFU.txt\n",
      "Not in file: OMWIMVRCMYM.txt\n",
      "Not in file: OYMAGXAGWHJ.txt\n",
      "Not in file: SIKFPPLCJDN.txt\n",
      "Not in file: SJMJLDGPBSJ.txt\n",
      "Not in file: SOFUJYXTIMK.txt\n",
      "Not in file: SPDZYGDHEWO.txt\n",
      "Not in file: SWOFXREEHWA.txt\n"
     ]
    }
   ],
   "source": [
    "pattern = re.compile(r'(\\d{3})-(\\d{3})-(\\d{4})')\n",
    "\n",
    "for folder,sub_folders,files in os.walk('extracted_content'):\n",
    "    \n",
    "    print(f'Currently looking in {folder}')\n",
    "    print('The subfolder are: ')\n",
    "    for sub_folder in sub_folders:\n",
    "        print(f'Subfolder: {sub_folder}')\n",
    "    for f in files:\n",
    "        content = open(os.getcwd()+'\\\\'+folder+'\\\\'+f,'r')\n",
    "        search = re.search(pattern,content.read())\n",
    "        if search:\n",
    "            print (f'Found the string in: {f} ')\n",
    "            print('string: ' + search.group())\n",
    "        else:\n",
    "            print(f'Not in file: {f}')"
   ]
  },
  {
   "cell_type": "code",
   "execution_count": 73,
   "metadata": {},
   "outputs": [],
   "source": [
    "# Solution video\n",
    "import re\n",
    "\n",
    "def search(file,pattern=r'\\d{3}-\\d{3}-\\d{4}'):\n",
    "    f = open(file,'r')\n",
    "    text = f.read()\n",
    "\n",
    "    if re.search(pattern,text):\n",
    "        return re.search(pattern,text)\n",
    "    else:\n",
    "        return \"\"\n"
   ]
  },
  {
   "cell_type": "code",
   "execution_count": 75,
   "metadata": {},
   "outputs": [],
   "source": [
    "import os\n",
    "\n",
    "results = []\n",
    "\n",
    "for folder,sun_folders,files in os.walk(os.getcwd()+'\\\\extracted_content'):\n",
    "    \n",
    "    for f in files:\n",
    "        full_path = folder+'\\\\'+f\n",
    "\n",
    "        results.append(search(full_path))\n"
   ]
  },
  {
   "cell_type": "code",
   "execution_count": 76,
   "metadata": {},
   "outputs": [
    {
     "name": "stdout",
     "output_type": "stream",
     "text": [
      "719-266-2837\n"
     ]
    }
   ],
   "source": [
    "for r in results:\n",
    "    if r != \"\":\n",
    "        print (r.group())"
   ]
  }
 ],
 "metadata": {
  "anaconda-cloud": {},
  "kernelspec": {
   "display_name": "Python 3",
   "language": "python",
   "name": "python3"
  },
  "language_info": {
   "codemirror_mode": {
    "name": "ipython",
    "version": 3
   },
   "file_extension": ".py",
   "mimetype": "text/x-python",
   "name": "python",
   "nbconvert_exporter": "python",
   "pygments_lexer": "ipython3",
   "version": "3.9.12"
  }
 },
 "nbformat": 4,
 "nbformat_minor": 2
}
