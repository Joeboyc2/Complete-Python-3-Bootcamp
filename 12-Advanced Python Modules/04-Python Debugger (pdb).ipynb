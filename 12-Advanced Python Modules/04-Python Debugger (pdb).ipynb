{
 "cells": [
  {
   "cell_type": "markdown",
   "metadata": {},
   "source": [
    "___\n",
    "\n",
    "<a href='https://www.udemy.com/user/joseportilla/'><img src='../Pierian_Data_Logo.png'/></a>\n",
    "___\n",
    "<center><em>Content Copyright by Pierian Data</em></center>"
   ]
  },
  {
   "cell_type": "markdown",
   "metadata": {},
   "source": [
    "# Python Debugger\n",
    "\n",
    "You've probably used a variety of print statements to try to find errors in your code. A better way of doing this is by using Python's built-in debugger module (pdb). The pdb module implements an interactive debugging environment for Python programs. It includes features to let you pause your program, look at the values of variables, and watch program execution step-by-step, so you can understand what your program actually does and find bugs in the logic.\n",
    "\n",
    "This is a bit difficult to show since it requires creating an error on purpose, but hopefully this simple example illustrates the power of the pdb module. <br>*Note: Keep in mind it would be pretty unusual to use pdb in an Jupyter Notebook setting.*\n",
    "\n",
    "___\n",
    "Here we will create an error on purpose, trying to add a list to an integer"
   ]
  },
  {
   "cell_type": "code",
   "execution_count": 1,
   "metadata": {},
   "outputs": [
    {
     "name": "stdout",
     "output_type": "stream",
     "text": [
      "5\n"
     ]
    },
    {
     "ename": "TypeError",
     "evalue": "unsupported operand type(s) for +: 'int' and 'list'",
     "output_type": "error",
     "traceback": [
      "\u001b[1;31m---------------------------------------------------------------------------\u001b[0m",
      "\u001b[1;31mTypeError\u001b[0m                                 Traceback (most recent call last)",
      "\u001b[1;32mc:\\git\\Complete-Python-3-Bootcamp\\12-Advanced Python Modules\\04-Python Debugger (pdb).ipynb Cell 3'\u001b[0m in \u001b[0;36m<module>\u001b[1;34m\u001b[0m\n\u001b[0;32m      <a href='vscode-notebook-cell:/c%3A/git/Complete-Python-3-Bootcamp/12-Advanced%20Python%20Modules/04-Python%20Debugger%20%28pdb%29.ipynb#ch0000002?line=4'>5</a>\u001b[0m result \u001b[39m=\u001b[39m y \u001b[39m+\u001b[39m z\n\u001b[0;32m      <a href='vscode-notebook-cell:/c%3A/git/Complete-Python-3-Bootcamp/12-Advanced%20Python%20Modules/04-Python%20Debugger%20%28pdb%29.ipynb#ch0000002?line=5'>6</a>\u001b[0m \u001b[39mprint\u001b[39m(result)\n\u001b[1;32m----> <a href='vscode-notebook-cell:/c%3A/git/Complete-Python-3-Bootcamp/12-Advanced%20Python%20Modules/04-Python%20Debugger%20%28pdb%29.ipynb#ch0000002?line=6'>7</a>\u001b[0m result2 \u001b[39m=\u001b[39m y\u001b[39m+\u001b[39;49mx\n\u001b[0;32m      <a href='vscode-notebook-cell:/c%3A/git/Complete-Python-3-Bootcamp/12-Advanced%20Python%20Modules/04-Python%20Debugger%20%28pdb%29.ipynb#ch0000002?line=7'>8</a>\u001b[0m \u001b[39mprint\u001b[39m(result2)\n",
      "\u001b[1;31mTypeError\u001b[0m: unsupported operand type(s) for +: 'int' and 'list'"
     ]
    }
   ],
   "source": [
    "x = [1,3,4]\n",
    "y = 2\n",
    "z = 3\n",
    "\n",
    "result = y + z\n",
    "print(result)\n",
    "result2 = y+x\n",
    "print(result2)"
   ]
  },
  {
   "cell_type": "markdown",
   "metadata": {},
   "source": [
    "Hmmm, looks like we get an error! Let's implement a set_trace() using the pdb module. This will allow us to basically pause the code at the point of the trace and check if anything is wrong."
   ]
  },
  {
   "cell_type": "code",
   "execution_count": 2,
   "metadata": {},
   "outputs": [
    {
     "name": "stdout",
     "output_type": "stream",
     "text": [
      "5\n",
      "--Return--\n",
      "None\n",
      "> \u001b[1;32mc:\\users\\lv24352\\appdata\\local\\temp\\ipykernel_15140\\1419980936.py\u001b[0m(11)\u001b[0;36m<module>\u001b[1;34m()\u001b[0m\n",
      "\n"
     ]
    },
    {
     "ename": "BdbQuit",
     "evalue": "",
     "output_type": "error",
     "traceback": [
      "\u001b[1;31m---------------------------------------------------------------------------\u001b[0m",
      "\u001b[1;31mBdbQuit\u001b[0m                                   Traceback (most recent call last)",
      "\u001b[1;32mc:\\git\\Complete-Python-3-Bootcamp\\12-Advanced Python Modules\\04-Python Debugger (pdb).ipynb Cell 5'\u001b[0m in \u001b[0;36m<module>\u001b[1;34m\u001b[0m\n\u001b[0;32m      <a href='vscode-notebook-cell:/c%3A/git/Complete-Python-3-Bootcamp/12-Advanced%20Python%20Modules/04-Python%20Debugger%20%28pdb%29.ipynb#ch0000004?line=7'>8</a>\u001b[0m \u001b[39mprint\u001b[39m(result)\n\u001b[0;32m     <a href='vscode-notebook-cell:/c%3A/git/Complete-Python-3-Bootcamp/12-Advanced%20Python%20Modules/04-Python%20Debugger%20%28pdb%29.ipynb#ch0000004?line=9'>10</a>\u001b[0m \u001b[39m# Set a trace using Python Debugger\u001b[39;00m\n\u001b[1;32m---> <a href='vscode-notebook-cell:/c%3A/git/Complete-Python-3-Bootcamp/12-Advanced%20Python%20Modules/04-Python%20Debugger%20%28pdb%29.ipynb#ch0000004?line=10'>11</a>\u001b[0m pdb\u001b[39m.\u001b[39mset_trace()\n\u001b[0;32m     <a href='vscode-notebook-cell:/c%3A/git/Complete-Python-3-Bootcamp/12-Advanced%20Python%20Modules/04-Python%20Debugger%20%28pdb%29.ipynb#ch0000004?line=12'>13</a>\u001b[0m result2 \u001b[39m=\u001b[39m y\u001b[39m+\u001b[39mx\n\u001b[0;32m     <a href='vscode-notebook-cell:/c%3A/git/Complete-Python-3-Bootcamp/12-Advanced%20Python%20Modules/04-Python%20Debugger%20%28pdb%29.ipynb#ch0000004?line=13'>14</a>\u001b[0m \u001b[39mprint\u001b[39m(result2)\n",
      "File \u001b[1;32m~\\AppData\\Local\\Programs\\Python\\Python310\\lib\\bdb.py:94\u001b[0m, in \u001b[0;36mBdb.trace_dispatch\u001b[1;34m(self, frame, event, arg)\u001b[0m\n\u001b[0;32m     <a href='file:///c%3A/Users/lv24352/AppData/Local/Programs/Python/Python310/lib/bdb.py?line=91'>92</a>\u001b[0m     \u001b[39mreturn\u001b[39;00m \u001b[39mself\u001b[39m\u001b[39m.\u001b[39mdispatch_call(frame, arg)\n\u001b[0;32m     <a href='file:///c%3A/Users/lv24352/AppData/Local/Programs/Python/Python310/lib/bdb.py?line=92'>93</a>\u001b[0m \u001b[39mif\u001b[39;00m event \u001b[39m==\u001b[39m \u001b[39m'\u001b[39m\u001b[39mreturn\u001b[39m\u001b[39m'\u001b[39m:\n\u001b[1;32m---> <a href='file:///c%3A/Users/lv24352/AppData/Local/Programs/Python/Python310/lib/bdb.py?line=93'>94</a>\u001b[0m     \u001b[39mreturn\u001b[39;00m \u001b[39mself\u001b[39;49m\u001b[39m.\u001b[39;49mdispatch_return(frame, arg)\n\u001b[0;32m     <a href='file:///c%3A/Users/lv24352/AppData/Local/Programs/Python/Python310/lib/bdb.py?line=94'>95</a>\u001b[0m \u001b[39mif\u001b[39;00m event \u001b[39m==\u001b[39m \u001b[39m'\u001b[39m\u001b[39mexception\u001b[39m\u001b[39m'\u001b[39m:\n\u001b[0;32m     <a href='file:///c%3A/Users/lv24352/AppData/Local/Programs/Python/Python310/lib/bdb.py?line=95'>96</a>\u001b[0m     \u001b[39mreturn\u001b[39;00m \u001b[39mself\u001b[39m\u001b[39m.\u001b[39mdispatch_exception(frame, arg)\n",
      "File \u001b[1;32m~\\AppData\\Local\\Programs\\Python\\Python310\\lib\\bdb.py:156\u001b[0m, in \u001b[0;36mBdb.dispatch_return\u001b[1;34m(self, frame, arg)\u001b[0m\n\u001b[0;32m    <a href='file:///c%3A/Users/lv24352/AppData/Local/Programs/Python/Python310/lib/bdb.py?line=153'>154</a>\u001b[0m \u001b[39mfinally\u001b[39;00m:\n\u001b[0;32m    <a href='file:///c%3A/Users/lv24352/AppData/Local/Programs/Python/Python310/lib/bdb.py?line=154'>155</a>\u001b[0m     \u001b[39mself\u001b[39m\u001b[39m.\u001b[39mframe_returning \u001b[39m=\u001b[39m \u001b[39mNone\u001b[39;00m\n\u001b[1;32m--> <a href='file:///c%3A/Users/lv24352/AppData/Local/Programs/Python/Python310/lib/bdb.py?line=155'>156</a>\u001b[0m \u001b[39mif\u001b[39;00m \u001b[39mself\u001b[39m\u001b[39m.\u001b[39mquitting: \u001b[39mraise\u001b[39;00m BdbQuit\n\u001b[0;32m    <a href='file:///c%3A/Users/lv24352/AppData/Local/Programs/Python/Python310/lib/bdb.py?line=156'>157</a>\u001b[0m \u001b[39m# The user issued a 'next' or 'until' command.\u001b[39;00m\n\u001b[0;32m    <a href='file:///c%3A/Users/lv24352/AppData/Local/Programs/Python/Python310/lib/bdb.py?line=157'>158</a>\u001b[0m \u001b[39mif\u001b[39;00m \u001b[39mself\u001b[39m\u001b[39m.\u001b[39mstopframe \u001b[39mis\u001b[39;00m frame \u001b[39mand\u001b[39;00m \u001b[39mself\u001b[39m\u001b[39m.\u001b[39mstoplineno \u001b[39m!=\u001b[39m \u001b[39m-\u001b[39m\u001b[39m1\u001b[39m:\n",
      "\u001b[1;31mBdbQuit\u001b[0m: "
     ]
    }
   ],
   "source": [
    "import pdb\n",
    "\n",
    "x = [1,3,4]\n",
    "y = 2\n",
    "z = 3\n",
    "\n",
    "result = y + z\n",
    "print(result)\n",
    "\n",
    "# Set a trace using Python Debugger\n",
    "pdb.set_trace()\n",
    "\n",
    "result2 = y+x\n",
    "print(result2)"
   ]
  },
  {
   "cell_type": "markdown",
   "metadata": {},
   "source": [
    "Great! Now we could check what the various variables were and check for errors. You can use 'q' to quit the debugger. For more information on general debugging techniques and more methods, check out the official documentation:\n",
    "https://docs.python.org/3/library/pdb.html"
   ]
  }
 ],
 "metadata": {
  "kernelspec": {
   "display_name": "Python 3",
   "language": "python",
   "name": "python3"
  },
  "language_info": {
   "codemirror_mode": {
    "name": "ipython",
    "version": 3
   },
   "file_extension": ".py",
   "mimetype": "text/x-python",
   "name": "python",
   "nbconvert_exporter": "python",
   "pygments_lexer": "ipython3",
   "version": "3.10.2"
  }
 },
 "nbformat": 4,
 "nbformat_minor": 1
}
